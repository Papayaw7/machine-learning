{
  "nbformat": 4,
  "nbformat_minor": 0,
  "metadata": {
    "colab": {
      "provenance": [],
      "include_colab_link": true
    },
    "kernelspec": {
      "name": "python3",
      "display_name": "Python 3"
    },
    "accelerator": "GPU",
    "widgets": {
      "application/vnd.jupyter.widget-state+json": {
        "29627b1707334af8b13066938e318c67": {
          "model_module": "catboost-widget",
          "model_name": "CatboostWidgetModel",
          "model_module_version": "^1.0.0",
          "state": {
            "_dom_classes": [],
            "_model_module": "catboost-widget",
            "_model_module_version": "^1.0.0",
            "_model_name": "CatboostWidgetModel",
            "_view_count": null,
            "_view_module": "catboost-widget",
            "_view_module_version": "^1.0.0",
            "_view_name": "CatboostWidgetView",
            "data": {
              "catboost_info": {
                "path": "catboost_info",
                "name": "catboost_info",
                "content": {
                  "passed_iterations": 99,
                  "total_iterations": 100,
                  "data": {
                    "iterations": [
                      {
                        "learn": [
                          0.8571428571,
                          0.643387175
                        ],
                        "iteration": 0,
                        "passed_time": 0.02697985511,
                        "remaining_time": 2.671005656,
                        "test": [
                          0.7885304659,
                          0.6527852777
                        ]
                      },
                      {
                        "learn": [
                          0.8553259141,
                          0.6085837705
                        ],
                        "iteration": 1,
                        "passed_time": 0.05461721517,
                        "remaining_time": 2.676243543,
                        "test": [
                          0.8275862069,
                          0.6192689341
                        ]
                      },
                      {
                        "learn": [
                          0.8562300319,
                          0.583708603
                        ],
                        "iteration": 2,
                        "passed_time": 0.08159905819,
                        "remaining_time": 2.638369548,
                        "test": [
                          0.8251748252,
                          0.5972166766
                        ]
                      },
                      {
                        "learn": [
                          0.8576,
                          0.5631626621
                        ],
                        "iteration": 3,
                        "passed_time": 0.1068042559,
                        "remaining_time": 2.563302141,
                        "test": [
                          0.8309859155,
                          0.5824761602
                        ]
                      },
                      {
                        "learn": [
                          0.8557692308,
                          0.5474409117
                        ],
                        "iteration": 4,
                        "passed_time": 0.1324079524,
                        "remaining_time": 2.515751095,
                        "test": [
                          0.8309859155,
                          0.5735188376
                        ]
                      },
                      {
                        "learn": [
                          0.8539325843,
                          0.5358822862
                        ],
                        "iteration": 5,
                        "passed_time": 0.1514650792,
                        "remaining_time": 2.372952907,
                        "test": [
                          0.8339222615,
                          0.5646922295
                        ]
                      },
                      {
                        "learn": [
                          0.8520900322,
                          0.5242538267
                        ],
                        "iteration": 6,
                        "passed_time": 0.1773997556,
                        "remaining_time": 2.356882467,
                        "test": [
                          0.8309859155,
                          0.558824962
                        ]
                      },
                      {
                        "learn": [
                          0.8502415459,
                          0.5186191382
                        ],
                        "iteration": 7,
                        "passed_time": 0.1984055206,
                        "remaining_time": 2.281663486,
                        "test": [
                          0.8398576512,
                          0.5529298078
                        ]
                      },
                      {
                        "learn": [
                          0.8520900322,
                          0.5140275422
                        ],
                        "iteration": 8,
                        "passed_time": 0.2237926506,
                        "remaining_time": 2.262792356,
                        "test": [
                          0.8309859155,
                          0.5531666197
                        ]
                      },
                      {
                        "learn": [
                          0.8520900322,
                          0.5106442491
                        ],
                        "iteration": 9,
                        "passed_time": 0.2408899937,
                        "remaining_time": 2.168009943,
                        "test": [
                          0.8368794326,
                          0.5491005282
                        ]
                      },
                      {
                        "learn": [
                          0.8520900322,
                          0.5051686828
                        ],
                        "iteration": 10,
                        "passed_time": 0.2670413084,
                        "remaining_time": 2.16060695,
                        "test": [
                          0.8309859155,
                          0.5489542919
                        ]
                      },
                      {
                        "learn": [
                          0.8539325843,
                          0.5000729155
                        ],
                        "iteration": 11,
                        "passed_time": 0.2921602947,
                        "remaining_time": 2.142508827,
                        "test": [
                          0.8309859155,
                          0.5488109119
                        ]
                      },
                      {
                        "learn": [
                          0.8557692308,
                          0.4962211293
                        ],
                        "iteration": 12,
                        "passed_time": 0.3183414443,
                        "remaining_time": 2.130438896,
                        "test": [
                          0.8251748252,
                          0.5492360533
                        ]
                      },
                      {
                        "learn": [
                          0.8557692308,
                          0.4941055409
                        ],
                        "iteration": 13,
                        "passed_time": 0.3441048834,
                        "remaining_time": 2.113787141,
                        "test": [
                          0.8251748252,
                          0.5464304656
                        ]
                      },
                      {
                        "learn": [
                          0.8557692308,
                          0.4918320185
                        ],
                        "iteration": 14,
                        "passed_time": 0.3697135376,
                        "remaining_time": 2.09504338,
                        "test": [
                          0.8251748252,
                          0.5468528635
                        ]
                      },
                      {
                        "learn": [
                          0.8576,
                          0.4884362882
                        ],
                        "iteration": 15,
                        "passed_time": 0.3948943063,
                        "remaining_time": 2.073195108,
                        "test": [
                          0.8251748252,
                          0.5464728595
                        ]
                      },
                      {
                        "learn": [
                          0.8576,
                          0.4861620975
                        ],
                        "iteration": 16,
                        "passed_time": 0.4198892236,
                        "remaining_time": 2.050047386,
                        "test": [
                          0.8309859155,
                          0.545926888
                        ]
                      },
                      {
                        "learn": [
                          0.8576,
                          0.4842252337
                        ],
                        "iteration": 17,
                        "passed_time": 0.4476777046,
                        "remaining_time": 2.039420654,
                        "test": [
                          0.8251748252,
                          0.5483816363
                        ]
                      },
                      {
                        "learn": [
                          0.8576,
                          0.4817596213
                        ],
                        "iteration": 18,
                        "passed_time": 0.4752206525,
                        "remaining_time": 2.025940676,
                        "test": [
                          0.8280701754,
                          0.5468905219
                        ]
                      },
                      {
                        "learn": [
                          0.8594249201,
                          0.4769060641
                        ],
                        "iteration": 19,
                        "passed_time": 0.501276814,
                        "remaining_time": 2.005107256,
                        "test": [
                          0.8280701754,
                          0.5472555677
                        ]
                      },
                      {
                        "learn": [
                          0.8612440191,
                          0.4721568309
                        ],
                        "iteration": 20,
                        "passed_time": 0.5292605632,
                        "remaining_time": 1.991027833,
                        "test": [
                          0.8309859155,
                          0.5501227919
                        ]
                      },
                      {
                        "learn": [
                          0.8612440191,
                          0.4672140228
                        ],
                        "iteration": 21,
                        "passed_time": 0.5557291274,
                        "remaining_time": 1.970312361,
                        "test": [
                          0.8280701754,
                          0.5501764608
                        ]
                      },
                      {
                        "learn": [
                          0.8612440191,
                          0.464732966
                        ],
                        "iteration": 22,
                        "passed_time": 0.5823366375,
                        "remaining_time": 1.949561786,
                        "test": [
                          0.8309859155,
                          0.550110427
                        ]
                      },
                      {
                        "learn": [
                          0.8580542265,
                          0.4600090528
                        ],
                        "iteration": 23,
                        "passed_time": 0.6078483284,
                        "remaining_time": 1.92485304,
                        "test": [
                          0.8309859155,
                          0.5492843853
                        ]
                      },
                      {
                        "learn": [
                          0.8594249201,
                          0.4596015949
                        ],
                        "iteration": 24,
                        "passed_time": 0.62716977,
                        "remaining_time": 1.88150931,
                        "test": [
                          0.8309859155,
                          0.5483043652
                        ]
                      },
                      {
                        "learn": [
                          0.8612440191,
                          0.4578640977
                        ],
                        "iteration": 25,
                        "passed_time": 0.653082074,
                        "remaining_time": 1.858772057,
                        "test": [
                          0.8309859155,
                          0.5478673475
                        ]
                      },
                      {
                        "learn": [
                          0.8594249201,
                          0.4556180114
                        ],
                        "iteration": 26,
                        "passed_time": 0.6786265715,
                        "remaining_time": 1.834805175,
                        "test": [
                          0.8309859155,
                          0.5468218197
                        ]
                      },
                      {
                        "learn": [
                          0.8580542265,
                          0.4520890359
                        ],
                        "iteration": 27,
                        "passed_time": 0.7063809785,
                        "remaining_time": 1.81640823,
                        "test": [
                          0.8280701754,
                          0.5456567774
                        ]
                      },
                      {
                        "learn": [
                          0.8630573248,
                          0.4498143997
                        ],
                        "iteration": 28,
                        "passed_time": 0.7349603056,
                        "remaining_time": 1.799385576,
                        "test": [
                          0.8280701754,
                          0.5431110025
                        ]
                      },
                      {
                        "learn": [
                          0.8630573248,
                          0.4475620762
                        ],
                        "iteration": 29,
                        "passed_time": 0.7548698195,
                        "remaining_time": 1.761362912,
                        "test": [
                          0.8280701754,
                          0.5438456042
                        ]
                      },
                      {
                        "learn": [
                          0.8598726115,
                          0.4447837514
                        ],
                        "iteration": 30,
                        "passed_time": 0.7874635486,
                        "remaining_time": 1.752741447,
                        "test": [
                          0.8280701754,
                          0.5460085563
                        ]
                      },
                      {
                        "learn": [
                          0.8598726115,
                          0.4408894931
                        ],
                        "iteration": 31,
                        "passed_time": 0.7938234927,
                        "remaining_time": 1.686874922,
                        "test": [
                          0.8280701754,
                          0.5492174496
                        ]
                      },
                      {
                        "learn": [
                          0.8598726115,
                          0.4391978466
                        ],
                        "iteration": 32,
                        "passed_time": 0.7973762424,
                        "remaining_time": 1.618915401,
                        "test": [
                          0.8251748252,
                          0.5480037746
                        ]
                      },
                      {
                        "learn": [
                          0.8612440191,
                          0.4376400022
                        ],
                        "iteration": 33,
                        "passed_time": 0.8008129548,
                        "remaining_time": 1.554519265,
                        "test": [
                          0.8251748252,
                          0.5486942911
                        ]
                      },
                      {
                        "learn": [
                          0.8612440191,
                          0.4359179123
                        ],
                        "iteration": 34,
                        "passed_time": 0.8045381846,
                        "remaining_time": 1.494142343,
                        "test": [
                          0.8251748252,
                          0.5482443072
                        ]
                      },
                      {
                        "learn": [
                          0.8666666667,
                          0.4316447831
                        ],
                        "iteration": 35,
                        "passed_time": 0.8081151092,
                        "remaining_time": 1.436649083,
                        "test": [
                          0.8222996516,
                          0.5485028798
                        ]
                      },
                      {
                        "learn": [
                          0.8648648649,
                          0.4278185768
                        ],
                        "iteration": 36,
                        "passed_time": 0.8117191076,
                        "remaining_time": 1.382116318,
                        "test": [
                          0.8222996516,
                          0.5509330486
                        ]
                      },
                      {
                        "learn": [
                          0.8648648649,
                          0.4245084962
                        ],
                        "iteration": 37,
                        "passed_time": 0.8152644243,
                        "remaining_time": 1.330168271,
                        "test": [
                          0.8235294118,
                          0.5478620106
                        ]
                      },
                      {
                        "learn": [
                          0.8684627575,
                          0.4229277451
                        ],
                        "iteration": 38,
                        "passed_time": 0.8187242738,
                        "remaining_time": 1.280568736,
                        "test": [
                          0.8235294118,
                          0.5498662112
                        ]
                      },
                      {
                        "learn": [
                          0.8666666667,
                          0.4212210996
                        ],
                        "iteration": 39,
                        "passed_time": 0.8222270158,
                        "remaining_time": 1.233340524,
                        "test": [
                          0.8194444444,
                          0.5501265502
                        ]
                      },
                      {
                        "learn": [
                          0.8680445151,
                          0.4181279092
                        ],
                        "iteration": 40,
                        "passed_time": 0.8257334667,
                        "remaining_time": 1.188250598,
                        "test": [
                          0.8235294118,
                          0.5503331076
                        ]
                      },
                      {
                        "learn": [
                          0.8698412698,
                          0.4164474376
                        ],
                        "iteration": 41,
                        "passed_time": 0.8292498304,
                        "remaining_time": 1.145154528,
                        "test": [
                          0.8235294118,
                          0.5510516989
                        ]
                      },
                      {
                        "learn": [
                          0.8698412698,
                          0.4136482851
                        ],
                        "iteration": 42,
                        "passed_time": 0.8328550834,
                        "remaining_time": 1.104017204,
                        "test": [
                          0.8235294118,
                          0.5502871809
                        ]
                      },
                      {
                        "learn": [
                          0.873015873,
                          0.4108964683
                        ],
                        "iteration": 43,
                        "passed_time": 0.8364103829,
                        "remaining_time": 1.064522305,
                        "test": [
                          0.8166089965,
                          0.5521222194
                        ]
                      },
                      {
                        "learn": [
                          0.873015873,
                          0.4087972154
                        ],
                        "iteration": 44,
                        "passed_time": 0.8399584008,
                        "remaining_time": 1.026615823,
                        "test": [
                          0.8166089965,
                          0.5518554537
                        ]
                      },
                      {
                        "learn": [
                          0.8761904762,
                          0.4064099017
                        ],
                        "iteration": 45,
                        "passed_time": 0.8451872048,
                        "remaining_time": 0.9921762839,
                        "test": [
                          0.8235294118,
                          0.5528114958
                        ]
                      },
                      {
                        "learn": [
                          0.8775834658,
                          0.4030367441
                        ],
                        "iteration": 46,
                        "passed_time": 0.8528706183,
                        "remaining_time": 0.9617477185,
                        "test": [
                          0.8235294118,
                          0.5513493204
                        ]
                      },
                      {
                        "learn": [
                          0.8775834658,
                          0.4018356435
                        ],
                        "iteration": 47,
                        "passed_time": 0.8629640008,
                        "remaining_time": 0.9348776675,
                        "test": [
                          0.8137931034,
                          0.551525473
                        ]
                      },
                      {
                        "learn": [
                          0.8789808917,
                          0.4005160367
                        ],
                        "iteration": 48,
                        "passed_time": 0.8666598234,
                        "remaining_time": 0.9020336938,
                        "test": [
                          0.8194444444,
                          0.5528826032
                        ]
                      },
                      {
                        "learn": [
                          0.8789808917,
                          0.3988542394
                        ],
                        "iteration": 49,
                        "passed_time": 0.8702170162,
                        "remaining_time": 0.8702170162,
                        "test": [
                          0.8194444444,
                          0.5531408
                        ]
                      },
                      {
                        "learn": [
                          0.8803827751,
                          0.3965973494
                        ],
                        "iteration": 50,
                        "passed_time": 0.8737897163,
                        "remaining_time": 0.839523453,
                        "test": [
                          0.8194444444,
                          0.5537181911
                        ]
                      },
                      {
                        "learn": [
                          0.8839427663,
                          0.3948451133
                        ],
                        "iteration": 51,
                        "passed_time": 0.8772760936,
                        "remaining_time": 0.8097933172,
                        "test": [
                          0.8166089965,
                          0.5553791441
                        ]
                      },
                      {
                        "learn": [
                          0.8835725678,
                          0.3917445719
                        ],
                        "iteration": 52,
                        "passed_time": 0.8808114813,
                        "remaining_time": 0.781096974,
                        "test": [
                          0.8166089965,
                          0.5556193009
                        ]
                      },
                      {
                        "learn": [
                          0.8857142857,
                          0.3892844541
                        ],
                        "iteration": 53,
                        "passed_time": 0.8845061279,
                        "remaining_time": 0.753468183,
                        "test": [
                          0.8166089965,
                          0.5546596508
                        ]
                      },
                      {
                        "learn": [
                          0.8857142857,
                          0.3877204839
                        ],
                        "iteration": 54,
                        "passed_time": 0.8881185248,
                        "remaining_time": 0.7266424294,
                        "test": [
                          0.8166089965,
                          0.555554545
                        ]
                      },
                      {
                        "learn": [
                          0.8871224165,
                          0.386018702
                        ],
                        "iteration": 55,
                        "passed_time": 0.891622291,
                        "remaining_time": 0.7005603715,
                        "test": [
                          0.8166089965,
                          0.5556536895
                        ]
                      },
                      {
                        "learn": [
                          0.8885350318,
                          0.3848901456
                        ],
                        "iteration": 56,
                        "passed_time": 0.8951829814,
                        "remaining_time": 0.6753134772,
                        "test": [
                          0.8194444444,
                          0.5574700116
                        ]
                      },
                      {
                        "learn": [
                          0.8899521531,
                          0.3840698836
                        ],
                        "iteration": 57,
                        "passed_time": 0.8987184804,
                        "remaining_time": 0.650796141,
                        "test": [
                          0.8194444444,
                          0.5576416542
                        ]
                      },
                      {
                        "learn": [
                          0.8885350318,
                          0.3816513841
                        ],
                        "iteration": 58,
                        "passed_time": 0.9026923604,
                        "remaining_time": 0.6272946912,
                        "test": [
                          0.8137931034,
                          0.5577386565
                        ]
                      },
                      {
                        "learn": [
                          0.8899521531,
                          0.3807543827
                        ],
                        "iteration": 59,
                        "passed_time": 0.9062006652,
                        "remaining_time": 0.6041337768,
                        "test": [
                          0.8137931034,
                          0.5581030634
                        ]
                      },
                      {
                        "learn": [
                          0.8899521531,
                          0.3787213625
                        ],
                        "iteration": 60,
                        "passed_time": 0.909705576,
                        "remaining_time": 0.5816150404,
                        "test": [
                          0.8137931034,
                          0.5583718586
                        ]
                      },
                      {
                        "learn": [
                          0.8931419458,
                          0.3775609149
                        ],
                        "iteration": 61,
                        "passed_time": 0.9132873469,
                        "remaining_time": 0.559756761,
                        "test": [
                          0.8166089965,
                          0.5585014456
                        ]
                      },
                      {
                        "learn": [
                          0.8928,
                          0.3761521314
                        ],
                        "iteration": 62,
                        "passed_time": 0.9168399025,
                        "remaining_time": 0.53846153,
                        "test": [
                          0.8166089965,
                          0.5592346191
                        ]
                      },
                      {
                        "learn": [
                          0.8942307692,
                          0.3742220988
                        ],
                        "iteration": 63,
                        "passed_time": 0.9206901627,
                        "remaining_time": 0.5178882165,
                        "test": [
                          0.8137931034,
                          0.5596657363
                        ]
                      },
                      {
                        "learn": [
                          0.896,
                          0.3723103693
                        ],
                        "iteration": 64,
                        "passed_time": 0.9242293744,
                        "remaining_time": 0.4976619708,
                        "test": [
                          0.8096885813,
                          0.559635557
                        ]
                      },
                      {
                        "learn": [
                          0.896,
                          0.3696010989
                        ],
                        "iteration": 65,
                        "passed_time": 0.9278291947,
                        "remaining_time": 0.4779726154,
                        "test": [
                          0.8125,
                          0.5610511291
                        ]
                      },
                      {
                        "learn": [
                          0.8988764045,
                          0.3684210487
                        ],
                        "iteration": 66,
                        "passed_time": 0.9313639086,
                        "remaining_time": 0.4587314774,
                        "test": [
                          0.8027681661,
                          0.5620715512
                        ]
                      },
                      {
                        "learn": [
                          0.8985507246,
                          0.3663061657
                        ],
                        "iteration": 67,
                        "passed_time": 0.9349508728,
                        "remaining_time": 0.4399768813,
                        "test": [
                          0.8083623693,
                          0.5619022012
                        ]
                      },
                      {
                        "learn": [
                          0.8953301127,
                          0.3653655783
                        ],
                        "iteration": 68,
                        "passed_time": 0.9387193883,
                        "remaining_time": 0.4217434933,
                        "test": [
                          0.8083623693,
                          0.5618971275
                        ]
                      },
                      {
                        "learn": [
                          0.8938906752,
                          0.3626699703
                        ],
                        "iteration": 69,
                        "passed_time": 0.9423324294,
                        "remaining_time": 0.4038567555,
                        "test": [
                          0.8083623693,
                          0.5614275251
                        ]
                      },
                      {
                        "learn": [
                          0.8924558587,
                          0.3619405927
                        ],
                        "iteration": 70,
                        "passed_time": 0.9457871647,
                        "remaining_time": 0.3863074335,
                        "test": [
                          0.8083623693,
                          0.5617920072
                        ]
                      },
                      {
                        "learn": [
                          0.8924558587,
                          0.3602685487
                        ],
                        "iteration": 71,
                        "passed_time": 0.9492924515,
                        "remaining_time": 0.3691692867,
                        "test": [
                          0.8083623693,
                          0.5626416888
                        ]
                      },
                      {
                        "learn": [
                          0.8924558587,
                          0.3597002981
                        ],
                        "iteration": 72,
                        "passed_time": 0.9528913158,
                        "remaining_time": 0.3524392538,
                        "test": [
                          0.8083623693,
                          0.5625481065
                        ]
                      },
                      {
                        "learn": [
                          0.8956661316,
                          0.3585029472
                        ],
                        "iteration": 73,
                        "passed_time": 0.9564711425,
                        "remaining_time": 0.3360574284,
                        "test": [
                          0.8083623693,
                          0.5638084975
                        ]
                      },
                      {
                        "learn": [
                          0.8956661316,
                          0.3580608878
                        ],
                        "iteration": 74,
                        "passed_time": 0.9600686007,
                        "remaining_time": 0.3200228669,
                        "test": [
                          0.8083623693,
                          0.5638233429
                        ]
                      },
                      {
                        "learn": [
                          0.8956661316,
                          0.3569435435
                        ],
                        "iteration": 75,
                        "passed_time": 0.963552761,
                        "remaining_time": 0.3042798193,
                        "test": [
                          0.8083623693,
                          0.5628146843
                        ]
                      },
                      {
                        "learn": [
                          0.8956661316,
                          0.3562111216
                        ],
                        "iteration": 76,
                        "passed_time": 0.9671117417,
                        "remaining_time": 0.2888775332,
                        "test": [
                          0.8083623693,
                          0.5627445916
                        ]
                      },
                      {
                        "learn": [
                          0.8985507246,
                          0.3542824256
                        ],
                        "iteration": 77,
                        "passed_time": 0.9706266816,
                        "remaining_time": 0.2737664999,
                        "test": [
                          0.8055555556,
                          0.5618920538
                        ]
                      },
                      {
                        "learn": [
                          0.8985507246,
                          0.3528677019
                        ],
                        "iteration": 78,
                        "passed_time": 0.9796779975,
                        "remaining_time": 0.2604207335,
                        "test": [
                          0.8055555556,
                          0.562502706
                        ]
                      },
                      {
                        "learn": [
                          0.9003215434,
                          0.3520141008
                        ],
                        "iteration": 79,
                        "passed_time": 0.9832430869,
                        "remaining_time": 0.2458107717,
                        "test": [
                          0.8083623693,
                          0.5628635801
                        ]
                      },
                      {
                        "learn": [
                          0.9,
                          0.350844483
                        ],
                        "iteration": 80,
                        "passed_time": 0.9869083377,
                        "remaining_time": 0.2314970175,
                        "test": [
                          0.8083623693,
                          0.5634486006
                        ]
                      },
                      {
                        "learn": [
                          0.9038461538,
                          0.3483908252
                        ],
                        "iteration": 81,
                        "passed_time": 0.9904392695,
                        "remaining_time": 0.2174134982,
                        "test": [
                          0.8083623693,
                          0.564670356
                        ]
                      },
                      {
                        "learn": [
                          0.9099678457,
                          0.3472053546
                        ],
                        "iteration": 82,
                        "passed_time": 0.993994509,
                        "remaining_time": 0.2035892368,
                        "test": [
                          0.8083623693,
                          0.5635376352
                        ]
                      },
                      {
                        "learn": [
                          0.9143780291,
                          0.3457252521
                        ],
                        "iteration": 83,
                        "passed_time": 0.99771354,
                        "remaining_time": 0.1900406743,
                        "test": [
                          0.8055555556,
                          0.5635361695
                        ]
                      },
                      {
                        "learn": [
                          0.9143780291,
                          0.3444635619
                        ],
                        "iteration": 84,
                        "passed_time": 1.001530249,
                        "remaining_time": 0.1767406321,
                        "test": [
                          0.8055555556,
                          0.5655418358
                        ]
                      },
                      {
                        "learn": [
                          0.9143780291,
                          0.3432250383
                        ],
                        "iteration": 85,
                        "passed_time": 1.007148313,
                        "remaining_time": 0.1639543766,
                        "test": [
                          0.8055555556,
                          0.5651807362
                        ]
                      },
                      {
                        "learn": [
                          0.9143780291,
                          0.3425951213
                        ],
                        "iteration": 86,
                        "passed_time": 1.017879009,
                        "remaining_time": 0.1520968633,
                        "test": [
                          0.8055555556,
                          0.5665423013
                        ]
                      },
                      {
                        "learn": [
                          0.9143780291,
                          0.3413471305
                        ],
                        "iteration": 87,
                        "passed_time": 1.02142143,
                        "remaining_time": 0.1392847405,
                        "test": [
                          0.8013937282,
                          0.5666089739
                        ]
                      },
                      {
                        "learn": [
                          0.9158576052,
                          0.3404111468
                        ],
                        "iteration": 88,
                        "passed_time": 1.024822343,
                        "remaining_time": 0.1266634357,
                        "test": [
                          0.8013937282,
                          0.5671341619
                        ]
                      },
                      {
                        "learn": [
                          0.9158576052,
                          0.3392596465
                        ],
                        "iteration": 89,
                        "passed_time": 1.028267717,
                        "remaining_time": 0.1142519686,
                        "test": [
                          0.8013937282,
                          0.566622128
                        ]
                      },
                      {
                        "learn": [
                          0.9158576052,
                          0.3387427411
                        ],
                        "iteration": 90,
                        "passed_time": 1.031913977,
                        "remaining_time": 0.1020574263,
                        "test": [
                          0.8055555556,
                          0.5661734971
                        ]
                      },
                      {
                        "learn": [
                          0.9129032258,
                          0.3375667377
                        ],
                        "iteration": 91,
                        "passed_time": 1.03539098,
                        "remaining_time": 0.09003399826,
                        "test": [
                          0.8013937282,
                          0.566857399
                        ]
                      },
                      {
                        "learn": [
                          0.9129032258,
                          0.3359966046
                        ],
                        "iteration": 92,
                        "passed_time": 1.038787149,
                        "remaining_time": 0.07818828005,
                        "test": [
                          0.8055555556,
                          0.5674751921
                        ]
                      },
                      {
                        "learn": [
                          0.9129032258,
                          0.3350145846
                        ],
                        "iteration": 93,
                        "passed_time": 1.042289627,
                        "remaining_time": 0.0665291251,
                        "test": [
                          0.8055555556,
                          0.5671877931
                        ]
                      },
                      {
                        "learn": [
                          0.9129032258,
                          0.3331896928
                        ],
                        "iteration": 94,
                        "passed_time": 1.045752755,
                        "remaining_time": 0.05503961868,
                        "test": [
                          0.8055555556,
                          0.565943375
                        ]
                      },
                      {
                        "learn": [
                          0.9143780291,
                          0.3318649255
                        ],
                        "iteration": 95,
                        "passed_time": 1.054867255,
                        "remaining_time": 0.04395280228,
                        "test": [
                          0.8055555556,
                          0.5657128019
                        ]
                      },
                      {
                        "learn": [
                          0.9143780291,
                          0.3305913178
                        ],
                        "iteration": 96,
                        "passed_time": 1.0634442,
                        "remaining_time": 0.0328900268,
                        "test": [
                          0.8055555556,
                          0.566067099
                        ]
                      },
                      {
                        "learn": [
                          0.9143780291,
                          0.329530108
                        ],
                        "iteration": 97,
                        "passed_time": 1.071617365,
                        "remaining_time": 0.02186974213,
                        "test": [
                          0.8055555556,
                          0.5661128754
                        ]
                      },
                      {
                        "learn": [
                          0.9143780291,
                          0.3281957622
                        ],
                        "iteration": 98,
                        "passed_time": 1.076227636,
                        "remaining_time": 0.01087098622,
                        "test": [
                          0.8055555556,
                          0.5668514609
                        ]
                      },
                      {
                        "learn": [
                          0.9143780291,
                          0.3270095862
                        ],
                        "iteration": 99,
                        "passed_time": 1.079693156,
                        "remaining_time": 0,
                        "test": [
                          0.8055555556,
                          0.5679107816
                        ]
                      }
                    ],
                    "meta": {
                      "test_sets": [
                        "test"
                      ],
                      "test_metrics": [
                        {
                          "best_value": "Max",
                          "name": "F1"
                        },
                        {
                          "best_value": "Min",
                          "name": "Logloss"
                        }
                      ],
                      "learn_metrics": [
                        {
                          "best_value": "Max",
                          "name": "F1"
                        },
                        {
                          "best_value": "Min",
                          "name": "Logloss"
                        }
                      ],
                      "launch_mode": "Train",
                      "parameters": "",
                      "iteration_count": 100,
                      "learn_sets": [
                        "learn"
                      ],
                      "name": "experiment"
                    }
                  }
                }
              }
            },
            "layout": "IPY_MODEL_b779e9b153454ef9b99227bb1abb5524"
          }
        }
      }
    }
  },
  "cells": [
    {
      "cell_type": "markdown",
      "metadata": {
        "id": "view-in-github",
        "colab_type": "text"
      },
      "source": [
        "<a href=\"https://colab.research.google.com/github/Papayaw7/machine-learning/blob/main/Papayaw_Catboost.ipynb\" target=\"_parent\"><img src=\"https://colab.research.google.com/assets/colab-badge.svg\" alt=\"Open In Colab\"/></a>"
      ]
    },
    {
      "cell_type": "markdown",
      "source": [
        "**Papayaw Boakye-Akyeampong**\n",
        "\n",
        "**10190900019**\n",
        "\n",
        "**Catboost Implementation for Machine Learning**\n",
        "\n",
        "**Computer Science**"
      ],
      "metadata": {
        "id": "uJJshQWaO6tt"
      }
    },
    {
      "cell_type": "code",
      "metadata": {
        "id": "VAgu4i6g4WE2",
        "outputId": "445f8e00-58c5-4759-fec9-852ea7c04542",
        "colab": {
          "base_uri": "https://localhost:8080/"
        }
      },
      "source": [
        "!pip install catboost"
      ],
      "execution_count": null,
      "outputs": [
        {
          "output_type": "stream",
          "name": "stdout",
          "text": [
            "Looking in indexes: https://pypi.org/simple, https://us-python.pkg.dev/colab-wheels/public/simple/\n",
            "Collecting catboost\n",
            "  Downloading catboost-1.2-cp310-cp310-manylinux2014_x86_64.whl (98.6 MB)\n",
            "\u001b[2K     \u001b[90m━━━━━━━━━━━━━━━━━━━━━━━━━━━━━━━━━━━━━━━━\u001b[0m \u001b[32m98.6/98.6 MB\u001b[0m \u001b[31m10.4 MB/s\u001b[0m eta \u001b[36m0:00:00\u001b[0m\n",
            "\u001b[?25hRequirement already satisfied: graphviz in /usr/local/lib/python3.10/dist-packages (from catboost) (0.20.1)\n",
            "Requirement already satisfied: matplotlib in /usr/local/lib/python3.10/dist-packages (from catboost) (3.7.1)\n",
            "Requirement already satisfied: numpy>=1.16.0 in /usr/local/lib/python3.10/dist-packages (from catboost) (1.22.4)\n",
            "Requirement already satisfied: pandas>=0.24 in /usr/local/lib/python3.10/dist-packages (from catboost) (1.5.3)\n",
            "Requirement already satisfied: scipy in /usr/local/lib/python3.10/dist-packages (from catboost) (1.10.1)\n",
            "Requirement already satisfied: plotly in /usr/local/lib/python3.10/dist-packages (from catboost) (5.13.1)\n",
            "Requirement already satisfied: six in /usr/local/lib/python3.10/dist-packages (from catboost) (1.16.0)\n",
            "Requirement already satisfied: python-dateutil>=2.8.1 in /usr/local/lib/python3.10/dist-packages (from pandas>=0.24->catboost) (2.8.2)\n",
            "Requirement already satisfied: pytz>=2020.1 in /usr/local/lib/python3.10/dist-packages (from pandas>=0.24->catboost) (2022.7.1)\n",
            "Requirement already satisfied: contourpy>=1.0.1 in /usr/local/lib/python3.10/dist-packages (from matplotlib->catboost) (1.0.7)\n",
            "Requirement already satisfied: cycler>=0.10 in /usr/local/lib/python3.10/dist-packages (from matplotlib->catboost) (0.11.0)\n",
            "Requirement already satisfied: fonttools>=4.22.0 in /usr/local/lib/python3.10/dist-packages (from matplotlib->catboost) (4.39.3)\n",
            "Requirement already satisfied: kiwisolver>=1.0.1 in /usr/local/lib/python3.10/dist-packages (from matplotlib->catboost) (1.4.4)\n",
            "Requirement already satisfied: packaging>=20.0 in /usr/local/lib/python3.10/dist-packages (from matplotlib->catboost) (23.1)\n",
            "Requirement already satisfied: pillow>=6.2.0 in /usr/local/lib/python3.10/dist-packages (from matplotlib->catboost) (8.4.0)\n",
            "Requirement already satisfied: pyparsing>=2.3.1 in /usr/local/lib/python3.10/dist-packages (from matplotlib->catboost) (3.0.9)\n",
            "Requirement already satisfied: tenacity>=6.2.0 in /usr/local/lib/python3.10/dist-packages (from plotly->catboost) (8.2.2)\n",
            "Installing collected packages: catboost\n",
            "Successfully installed catboost-1.2\n"
          ]
        }
      ]
    },
    {
      "cell_type": "code",
      "metadata": {
        "id": "8OnzPUF84dPV"
      },
      "source": [
        "import numpy as np\n",
        "import pandas as pd\n",
        "import seaborn as sns\n",
        "import statsmodels.api as sm\n",
        "from catboost import CatBoostClassifier\n",
        "from scipy import stats\n",
        "from sklearn.model_selection import train_test_split\n",
        "from sklearn.metrics import f1_score, accuracy_score"
      ],
      "execution_count": null,
      "outputs": []
    },
    {
      "cell_type": "code",
      "metadata": {
        "id": "Y4-9Zgec5Mu9"
      },
      "source": [
        "def resumetable(df):\n",
        "    print(f\"Dataset Shape: {df.shape}\")\n",
        "    summary = pd.DataFrame(df.dtypes,columns=['dtypes'])\n",
        "    summary = summary.reset_index()\n",
        "    summary['Name'] = summary['index']\n",
        "    summary = summary[['Name','dtypes']]\n",
        "    summary['Missing'] = df.isnull().sum().values    \n",
        "    summary['Uniques'] = df.nunique().values\n",
        "    summary['First Value'] = df.loc[0].values\n",
        "    summary['Second Value'] = df.loc[1].values\n",
        "    return summary"
      ],
      "execution_count": null,
      "outputs": []
    },
    {
      "cell_type": "code",
      "metadata": {
        "id": "wWCnybbgUDci",
        "colab": {
          "base_uri": "https://localhost:8080/"
        },
        "outputId": "83ba6f8f-dec6-403f-a403-86ff54e2ca5e"
      },
      "source": [
        "!ls"
      ],
      "execution_count": null,
      "outputs": [
        {
          "output_type": "stream",
          "name": "stdout",
          "text": [
            "data.csv  sample_data\n"
          ]
        }
      ]
    },
    {
      "cell_type": "code",
      "metadata": {
        "id": "BBSz0k6Y47su"
      },
      "source": [
        "file_loc = \"data.csv\""
      ],
      "execution_count": null,
      "outputs": []
    },
    {
      "cell_type": "code",
      "metadata": {
        "id": "VApPPwXY4l5X"
      },
      "source": [
        "df = pd.read_csv(file_loc)"
      ],
      "execution_count": null,
      "outputs": []
    },
    {
      "cell_type": "code",
      "metadata": {
        "id": "XB_pQwFu46mO",
        "outputId": "1c8123fd-4e10-407f-98d9-f13023a1158b",
        "colab": {
          "base_uri": "https://localhost:8080/",
          "height": 206
        }
      },
      "source": [
        "df.head()"
      ],
      "execution_count": null,
      "outputs": [
        {
          "output_type": "execute_result",
          "data": {
            "text/plain": [
              "   ApplicantIncome  CoapplicantIncome  LoanAmount  Loan_Amount_Term  \\\n",
              "0           5849.0                0.0         0.0             360.0   \n",
              "1           4583.0             1508.0       128.0             360.0   \n",
              "2           3000.0                0.0        66.0             360.0   \n",
              "3           2583.0             2358.0       120.0             360.0   \n",
              "4           6000.0                0.0       141.0             360.0   \n",
              "\n",
              "  Credit_History  Loan_Status  \n",
              "0            Yes            1  \n",
              "1            Yes            0  \n",
              "2            Yes            1  \n",
              "3            Yes            1  \n",
              "4            Yes            1  "
            ],
            "text/html": [
              "\n",
              "  <div id=\"df-06947dc0-b95d-4d6e-a08e-57c3a1994bee\">\n",
              "    <div class=\"colab-df-container\">\n",
              "      <div>\n",
              "<style scoped>\n",
              "    .dataframe tbody tr th:only-of-type {\n",
              "        vertical-align: middle;\n",
              "    }\n",
              "\n",
              "    .dataframe tbody tr th {\n",
              "        vertical-align: top;\n",
              "    }\n",
              "\n",
              "    .dataframe thead th {\n",
              "        text-align: right;\n",
              "    }\n",
              "</style>\n",
              "<table border=\"1\" class=\"dataframe\">\n",
              "  <thead>\n",
              "    <tr style=\"text-align: right;\">\n",
              "      <th></th>\n",
              "      <th>ApplicantIncome</th>\n",
              "      <th>CoapplicantIncome</th>\n",
              "      <th>LoanAmount</th>\n",
              "      <th>Loan_Amount_Term</th>\n",
              "      <th>Credit_History</th>\n",
              "      <th>Loan_Status</th>\n",
              "    </tr>\n",
              "  </thead>\n",
              "  <tbody>\n",
              "    <tr>\n",
              "      <th>0</th>\n",
              "      <td>5849.0</td>\n",
              "      <td>0.0</td>\n",
              "      <td>0.0</td>\n",
              "      <td>360.0</td>\n",
              "      <td>Yes</td>\n",
              "      <td>1</td>\n",
              "    </tr>\n",
              "    <tr>\n",
              "      <th>1</th>\n",
              "      <td>4583.0</td>\n",
              "      <td>1508.0</td>\n",
              "      <td>128.0</td>\n",
              "      <td>360.0</td>\n",
              "      <td>Yes</td>\n",
              "      <td>0</td>\n",
              "    </tr>\n",
              "    <tr>\n",
              "      <th>2</th>\n",
              "      <td>3000.0</td>\n",
              "      <td>0.0</td>\n",
              "      <td>66.0</td>\n",
              "      <td>360.0</td>\n",
              "      <td>Yes</td>\n",
              "      <td>1</td>\n",
              "    </tr>\n",
              "    <tr>\n",
              "      <th>3</th>\n",
              "      <td>2583.0</td>\n",
              "      <td>2358.0</td>\n",
              "      <td>120.0</td>\n",
              "      <td>360.0</td>\n",
              "      <td>Yes</td>\n",
              "      <td>1</td>\n",
              "    </tr>\n",
              "    <tr>\n",
              "      <th>4</th>\n",
              "      <td>6000.0</td>\n",
              "      <td>0.0</td>\n",
              "      <td>141.0</td>\n",
              "      <td>360.0</td>\n",
              "      <td>Yes</td>\n",
              "      <td>1</td>\n",
              "    </tr>\n",
              "  </tbody>\n",
              "</table>\n",
              "</div>\n",
              "      <button class=\"colab-df-convert\" onclick=\"convertToInteractive('df-06947dc0-b95d-4d6e-a08e-57c3a1994bee')\"\n",
              "              title=\"Convert this dataframe to an interactive table.\"\n",
              "              style=\"display:none;\">\n",
              "        \n",
              "  <svg xmlns=\"http://www.w3.org/2000/svg\" height=\"24px\"viewBox=\"0 0 24 24\"\n",
              "       width=\"24px\">\n",
              "    <path d=\"M0 0h24v24H0V0z\" fill=\"none\"/>\n",
              "    <path d=\"M18.56 5.44l.94 2.06.94-2.06 2.06-.94-2.06-.94-.94-2.06-.94 2.06-2.06.94zm-11 1L8.5 8.5l.94-2.06 2.06-.94-2.06-.94L8.5 2.5l-.94 2.06-2.06.94zm10 10l.94 2.06.94-2.06 2.06-.94-2.06-.94-.94-2.06-.94 2.06-2.06.94z\"/><path d=\"M17.41 7.96l-1.37-1.37c-.4-.4-.92-.59-1.43-.59-.52 0-1.04.2-1.43.59L10.3 9.45l-7.72 7.72c-.78.78-.78 2.05 0 2.83L4 21.41c.39.39.9.59 1.41.59.51 0 1.02-.2 1.41-.59l7.78-7.78 2.81-2.81c.8-.78.8-2.07 0-2.86zM5.41 20L4 18.59l7.72-7.72 1.47 1.35L5.41 20z\"/>\n",
              "  </svg>\n",
              "      </button>\n",
              "      \n",
              "  <style>\n",
              "    .colab-df-container {\n",
              "      display:flex;\n",
              "      flex-wrap:wrap;\n",
              "      gap: 12px;\n",
              "    }\n",
              "\n",
              "    .colab-df-convert {\n",
              "      background-color: #E8F0FE;\n",
              "      border: none;\n",
              "      border-radius: 50%;\n",
              "      cursor: pointer;\n",
              "      display: none;\n",
              "      fill: #1967D2;\n",
              "      height: 32px;\n",
              "      padding: 0 0 0 0;\n",
              "      width: 32px;\n",
              "    }\n",
              "\n",
              "    .colab-df-convert:hover {\n",
              "      background-color: #E2EBFA;\n",
              "      box-shadow: 0px 1px 2px rgba(60, 64, 67, 0.3), 0px 1px 3px 1px rgba(60, 64, 67, 0.15);\n",
              "      fill: #174EA6;\n",
              "    }\n",
              "\n",
              "    [theme=dark] .colab-df-convert {\n",
              "      background-color: #3B4455;\n",
              "      fill: #D2E3FC;\n",
              "    }\n",
              "\n",
              "    [theme=dark] .colab-df-convert:hover {\n",
              "      background-color: #434B5C;\n",
              "      box-shadow: 0px 1px 3px 1px rgba(0, 0, 0, 0.15);\n",
              "      filter: drop-shadow(0px 1px 2px rgba(0, 0, 0, 0.3));\n",
              "      fill: #FFFFFF;\n",
              "    }\n",
              "  </style>\n",
              "\n",
              "      <script>\n",
              "        const buttonEl =\n",
              "          document.querySelector('#df-06947dc0-b95d-4d6e-a08e-57c3a1994bee button.colab-df-convert');\n",
              "        buttonEl.style.display =\n",
              "          google.colab.kernel.accessAllowed ? 'block' : 'none';\n",
              "\n",
              "        async function convertToInteractive(key) {\n",
              "          const element = document.querySelector('#df-06947dc0-b95d-4d6e-a08e-57c3a1994bee');\n",
              "          const dataTable =\n",
              "            await google.colab.kernel.invokeFunction('convertToInteractive',\n",
              "                                                     [key], {});\n",
              "          if (!dataTable) return;\n",
              "\n",
              "          const docLinkHtml = 'Like what you see? Visit the ' +\n",
              "            '<a target=\"_blank\" href=https://colab.research.google.com/notebooks/data_table.ipynb>data table notebook</a>'\n",
              "            + ' to learn more about interactive tables.';\n",
              "          element.innerHTML = '';\n",
              "          dataTable['output_type'] = 'display_data';\n",
              "          await google.colab.output.renderOutput(dataTable, element);\n",
              "          const docLink = document.createElement('div');\n",
              "          docLink.innerHTML = docLinkHtml;\n",
              "          element.appendChild(docLink);\n",
              "        }\n",
              "      </script>\n",
              "    </div>\n",
              "  </div>\n",
              "  "
            ]
          },
          "metadata": {},
          "execution_count": 10
        }
      ]
    },
    {
      "cell_type": "code",
      "metadata": {
        "id": "QtD-QFme4_o9",
        "outputId": "f5cbda22-216b-4256-cbc2-f3ffbdfa945a",
        "colab": {
          "base_uri": "https://localhost:8080/"
        }
      },
      "source": [
        "print (\"Total number of rows in dataset = {}\".format(df.shape[0]))\n",
        "print (\"Total number of columns in dataset = {}\".format(df.shape[1]))"
      ],
      "execution_count": null,
      "outputs": [
        {
          "output_type": "stream",
          "name": "stdout",
          "text": [
            "Total number of rows in dataset = 614\n",
            "Total number of columns in dataset = 6\n"
          ]
        }
      ]
    },
    {
      "cell_type": "code",
      "metadata": {
        "id": "VfGknafk5INC",
        "outputId": "a3dd2729-2a45-4098-fb61-c9723e0081bb",
        "colab": {
          "base_uri": "https://localhost:8080/",
          "height": 255
        }
      },
      "source": [
        "result = resumetable(df)\n",
        "result"
      ],
      "execution_count": null,
      "outputs": [
        {
          "output_type": "stream",
          "name": "stdout",
          "text": [
            "Dataset Shape: (614, 6)\n"
          ]
        },
        {
          "output_type": "execute_result",
          "data": {
            "text/plain": [
              "                Name   dtypes  Missing  Uniques First Value Second Value\n",
              "0    ApplicantIncome  float64        2      503      5849.0       4583.0\n",
              "1  CoapplicantIncome  float64        2      287         0.0       1508.0\n",
              "2         LoanAmount  float64        3      203         0.0        128.0\n",
              "3   Loan_Amount_Term  float64        2       11       360.0        360.0\n",
              "4     Credit_History   object        0        2         Yes          Yes\n",
              "5        Loan_Status    int64        0        2           1            0"
            ],
            "text/html": [
              "\n",
              "  <div id=\"df-58323ef4-4d60-49b9-9caf-b9cbed03cafe\">\n",
              "    <div class=\"colab-df-container\">\n",
              "      <div>\n",
              "<style scoped>\n",
              "    .dataframe tbody tr th:only-of-type {\n",
              "        vertical-align: middle;\n",
              "    }\n",
              "\n",
              "    .dataframe tbody tr th {\n",
              "        vertical-align: top;\n",
              "    }\n",
              "\n",
              "    .dataframe thead th {\n",
              "        text-align: right;\n",
              "    }\n",
              "</style>\n",
              "<table border=\"1\" class=\"dataframe\">\n",
              "  <thead>\n",
              "    <tr style=\"text-align: right;\">\n",
              "      <th></th>\n",
              "      <th>Name</th>\n",
              "      <th>dtypes</th>\n",
              "      <th>Missing</th>\n",
              "      <th>Uniques</th>\n",
              "      <th>First Value</th>\n",
              "      <th>Second Value</th>\n",
              "    </tr>\n",
              "  </thead>\n",
              "  <tbody>\n",
              "    <tr>\n",
              "      <th>0</th>\n",
              "      <td>ApplicantIncome</td>\n",
              "      <td>float64</td>\n",
              "      <td>2</td>\n",
              "      <td>503</td>\n",
              "      <td>5849.0</td>\n",
              "      <td>4583.0</td>\n",
              "    </tr>\n",
              "    <tr>\n",
              "      <th>1</th>\n",
              "      <td>CoapplicantIncome</td>\n",
              "      <td>float64</td>\n",
              "      <td>2</td>\n",
              "      <td>287</td>\n",
              "      <td>0.0</td>\n",
              "      <td>1508.0</td>\n",
              "    </tr>\n",
              "    <tr>\n",
              "      <th>2</th>\n",
              "      <td>LoanAmount</td>\n",
              "      <td>float64</td>\n",
              "      <td>3</td>\n",
              "      <td>203</td>\n",
              "      <td>0.0</td>\n",
              "      <td>128.0</td>\n",
              "    </tr>\n",
              "    <tr>\n",
              "      <th>3</th>\n",
              "      <td>Loan_Amount_Term</td>\n",
              "      <td>float64</td>\n",
              "      <td>2</td>\n",
              "      <td>11</td>\n",
              "      <td>360.0</td>\n",
              "      <td>360.0</td>\n",
              "    </tr>\n",
              "    <tr>\n",
              "      <th>4</th>\n",
              "      <td>Credit_History</td>\n",
              "      <td>object</td>\n",
              "      <td>0</td>\n",
              "      <td>2</td>\n",
              "      <td>Yes</td>\n",
              "      <td>Yes</td>\n",
              "    </tr>\n",
              "    <tr>\n",
              "      <th>5</th>\n",
              "      <td>Loan_Status</td>\n",
              "      <td>int64</td>\n",
              "      <td>0</td>\n",
              "      <td>2</td>\n",
              "      <td>1</td>\n",
              "      <td>0</td>\n",
              "    </tr>\n",
              "  </tbody>\n",
              "</table>\n",
              "</div>\n",
              "      <button class=\"colab-df-convert\" onclick=\"convertToInteractive('df-58323ef4-4d60-49b9-9caf-b9cbed03cafe')\"\n",
              "              title=\"Convert this dataframe to an interactive table.\"\n",
              "              style=\"display:none;\">\n",
              "        \n",
              "  <svg xmlns=\"http://www.w3.org/2000/svg\" height=\"24px\"viewBox=\"0 0 24 24\"\n",
              "       width=\"24px\">\n",
              "    <path d=\"M0 0h24v24H0V0z\" fill=\"none\"/>\n",
              "    <path d=\"M18.56 5.44l.94 2.06.94-2.06 2.06-.94-2.06-.94-.94-2.06-.94 2.06-2.06.94zm-11 1L8.5 8.5l.94-2.06 2.06-.94-2.06-.94L8.5 2.5l-.94 2.06-2.06.94zm10 10l.94 2.06.94-2.06 2.06-.94-2.06-.94-.94-2.06-.94 2.06-2.06.94z\"/><path d=\"M17.41 7.96l-1.37-1.37c-.4-.4-.92-.59-1.43-.59-.52 0-1.04.2-1.43.59L10.3 9.45l-7.72 7.72c-.78.78-.78 2.05 0 2.83L4 21.41c.39.39.9.59 1.41.59.51 0 1.02-.2 1.41-.59l7.78-7.78 2.81-2.81c.8-.78.8-2.07 0-2.86zM5.41 20L4 18.59l7.72-7.72 1.47 1.35L5.41 20z\"/>\n",
              "  </svg>\n",
              "      </button>\n",
              "      \n",
              "  <style>\n",
              "    .colab-df-container {\n",
              "      display:flex;\n",
              "      flex-wrap:wrap;\n",
              "      gap: 12px;\n",
              "    }\n",
              "\n",
              "    .colab-df-convert {\n",
              "      background-color: #E8F0FE;\n",
              "      border: none;\n",
              "      border-radius: 50%;\n",
              "      cursor: pointer;\n",
              "      display: none;\n",
              "      fill: #1967D2;\n",
              "      height: 32px;\n",
              "      padding: 0 0 0 0;\n",
              "      width: 32px;\n",
              "    }\n",
              "\n",
              "    .colab-df-convert:hover {\n",
              "      background-color: #E2EBFA;\n",
              "      box-shadow: 0px 1px 2px rgba(60, 64, 67, 0.3), 0px 1px 3px 1px rgba(60, 64, 67, 0.15);\n",
              "      fill: #174EA6;\n",
              "    }\n",
              "\n",
              "    [theme=dark] .colab-df-convert {\n",
              "      background-color: #3B4455;\n",
              "      fill: #D2E3FC;\n",
              "    }\n",
              "\n",
              "    [theme=dark] .colab-df-convert:hover {\n",
              "      background-color: #434B5C;\n",
              "      box-shadow: 0px 1px 3px 1px rgba(0, 0, 0, 0.15);\n",
              "      filter: drop-shadow(0px 1px 2px rgba(0, 0, 0, 0.3));\n",
              "      fill: #FFFFFF;\n",
              "    }\n",
              "  </style>\n",
              "\n",
              "      <script>\n",
              "        const buttonEl =\n",
              "          document.querySelector('#df-58323ef4-4d60-49b9-9caf-b9cbed03cafe button.colab-df-convert');\n",
              "        buttonEl.style.display =\n",
              "          google.colab.kernel.accessAllowed ? 'block' : 'none';\n",
              "\n",
              "        async function convertToInteractive(key) {\n",
              "          const element = document.querySelector('#df-58323ef4-4d60-49b9-9caf-b9cbed03cafe');\n",
              "          const dataTable =\n",
              "            await google.colab.kernel.invokeFunction('convertToInteractive',\n",
              "                                                     [key], {});\n",
              "          if (!dataTable) return;\n",
              "\n",
              "          const docLinkHtml = 'Like what you see? Visit the ' +\n",
              "            '<a target=\"_blank\" href=https://colab.research.google.com/notebooks/data_table.ipynb>data table notebook</a>'\n",
              "            + ' to learn more about interactive tables.';\n",
              "          element.innerHTML = '';\n",
              "          dataTable['output_type'] = 'display_data';\n",
              "          await google.colab.output.renderOutput(dataTable, element);\n",
              "          const docLink = document.createElement('div');\n",
              "          docLink.innerHTML = docLinkHtml;\n",
              "          element.appendChild(docLink);\n",
              "        }\n",
              "      </script>\n",
              "    </div>\n",
              "  </div>\n",
              "  "
            ]
          },
          "metadata": {},
          "execution_count": 12
        }
      ]
    },
    {
      "cell_type": "code",
      "metadata": {
        "id": "bwTgwzIM5PoF"
      },
      "source": [
        "target_col = \"Loan_Status\"\n",
        "X = df.loc[:, df.columns != target_col]\n",
        "y = df.loc[:, target_col]"
      ],
      "execution_count": null,
      "outputs": []
    },
    {
      "cell_type": "code",
      "metadata": {
        "id": "5vi_Co5e5qUX"
      },
      "source": [
        "X_train, X_test, y_train, y_test = train_test_split(X, y, \n",
        "                                                    test_size=0.33, \n",
        "                                                    random_state=42)"
      ],
      "execution_count": null,
      "outputs": []
    },
    {
      "cell_type": "code",
      "metadata": {
        "id": "br0OqNWp6m63",
        "outputId": "cf782099-b641-458e-b984-2a068c7ba7d6",
        "colab": {
          "base_uri": "https://localhost:8080/",
          "height": 206
        }
      },
      "source": [
        "X_train.head()"
      ],
      "execution_count": null,
      "outputs": [
        {
          "output_type": "execute_result",
          "data": {
            "text/plain": [
              "     ApplicantIncome  CoapplicantIncome  LoanAmount  Loan_Amount_Term  \\\n",
              "244           3406.0             4417.0       123.0             360.0   \n",
              "393           1993.0             1625.0       113.0             180.0   \n",
              "310           2917.0                0.0        84.0             360.0   \n",
              "408           8300.0                0.0       152.0             300.0   \n",
              "572          16666.0                0.0       275.0             360.0   \n",
              "\n",
              "    Credit_History  \n",
              "244            Yes  \n",
              "393            Yes  \n",
              "310            Yes  \n",
              "408             No  \n",
              "572            Yes  "
            ],
            "text/html": [
              "\n",
              "  <div id=\"df-db62228a-9ed9-46f8-a026-97bdb9bc6379\">\n",
              "    <div class=\"colab-df-container\">\n",
              "      <div>\n",
              "<style scoped>\n",
              "    .dataframe tbody tr th:only-of-type {\n",
              "        vertical-align: middle;\n",
              "    }\n",
              "\n",
              "    .dataframe tbody tr th {\n",
              "        vertical-align: top;\n",
              "    }\n",
              "\n",
              "    .dataframe thead th {\n",
              "        text-align: right;\n",
              "    }\n",
              "</style>\n",
              "<table border=\"1\" class=\"dataframe\">\n",
              "  <thead>\n",
              "    <tr style=\"text-align: right;\">\n",
              "      <th></th>\n",
              "      <th>ApplicantIncome</th>\n",
              "      <th>CoapplicantIncome</th>\n",
              "      <th>LoanAmount</th>\n",
              "      <th>Loan_Amount_Term</th>\n",
              "      <th>Credit_History</th>\n",
              "    </tr>\n",
              "  </thead>\n",
              "  <tbody>\n",
              "    <tr>\n",
              "      <th>244</th>\n",
              "      <td>3406.0</td>\n",
              "      <td>4417.0</td>\n",
              "      <td>123.0</td>\n",
              "      <td>360.0</td>\n",
              "      <td>Yes</td>\n",
              "    </tr>\n",
              "    <tr>\n",
              "      <th>393</th>\n",
              "      <td>1993.0</td>\n",
              "      <td>1625.0</td>\n",
              "      <td>113.0</td>\n",
              "      <td>180.0</td>\n",
              "      <td>Yes</td>\n",
              "    </tr>\n",
              "    <tr>\n",
              "      <th>310</th>\n",
              "      <td>2917.0</td>\n",
              "      <td>0.0</td>\n",
              "      <td>84.0</td>\n",
              "      <td>360.0</td>\n",
              "      <td>Yes</td>\n",
              "    </tr>\n",
              "    <tr>\n",
              "      <th>408</th>\n",
              "      <td>8300.0</td>\n",
              "      <td>0.0</td>\n",
              "      <td>152.0</td>\n",
              "      <td>300.0</td>\n",
              "      <td>No</td>\n",
              "    </tr>\n",
              "    <tr>\n",
              "      <th>572</th>\n",
              "      <td>16666.0</td>\n",
              "      <td>0.0</td>\n",
              "      <td>275.0</td>\n",
              "      <td>360.0</td>\n",
              "      <td>Yes</td>\n",
              "    </tr>\n",
              "  </tbody>\n",
              "</table>\n",
              "</div>\n",
              "      <button class=\"colab-df-convert\" onclick=\"convertToInteractive('df-db62228a-9ed9-46f8-a026-97bdb9bc6379')\"\n",
              "              title=\"Convert this dataframe to an interactive table.\"\n",
              "              style=\"display:none;\">\n",
              "        \n",
              "  <svg xmlns=\"http://www.w3.org/2000/svg\" height=\"24px\"viewBox=\"0 0 24 24\"\n",
              "       width=\"24px\">\n",
              "    <path d=\"M0 0h24v24H0V0z\" fill=\"none\"/>\n",
              "    <path d=\"M18.56 5.44l.94 2.06.94-2.06 2.06-.94-2.06-.94-.94-2.06-.94 2.06-2.06.94zm-11 1L8.5 8.5l.94-2.06 2.06-.94-2.06-.94L8.5 2.5l-.94 2.06-2.06.94zm10 10l.94 2.06.94-2.06 2.06-.94-2.06-.94-.94-2.06-.94 2.06-2.06.94z\"/><path d=\"M17.41 7.96l-1.37-1.37c-.4-.4-.92-.59-1.43-.59-.52 0-1.04.2-1.43.59L10.3 9.45l-7.72 7.72c-.78.78-.78 2.05 0 2.83L4 21.41c.39.39.9.59 1.41.59.51 0 1.02-.2 1.41-.59l7.78-7.78 2.81-2.81c.8-.78.8-2.07 0-2.86zM5.41 20L4 18.59l7.72-7.72 1.47 1.35L5.41 20z\"/>\n",
              "  </svg>\n",
              "      </button>\n",
              "      \n",
              "  <style>\n",
              "    .colab-df-container {\n",
              "      display:flex;\n",
              "      flex-wrap:wrap;\n",
              "      gap: 12px;\n",
              "    }\n",
              "\n",
              "    .colab-df-convert {\n",
              "      background-color: #E8F0FE;\n",
              "      border: none;\n",
              "      border-radius: 50%;\n",
              "      cursor: pointer;\n",
              "      display: none;\n",
              "      fill: #1967D2;\n",
              "      height: 32px;\n",
              "      padding: 0 0 0 0;\n",
              "      width: 32px;\n",
              "    }\n",
              "\n",
              "    .colab-df-convert:hover {\n",
              "      background-color: #E2EBFA;\n",
              "      box-shadow: 0px 1px 2px rgba(60, 64, 67, 0.3), 0px 1px 3px 1px rgba(60, 64, 67, 0.15);\n",
              "      fill: #174EA6;\n",
              "    }\n",
              "\n",
              "    [theme=dark] .colab-df-convert {\n",
              "      background-color: #3B4455;\n",
              "      fill: #D2E3FC;\n",
              "    }\n",
              "\n",
              "    [theme=dark] .colab-df-convert:hover {\n",
              "      background-color: #434B5C;\n",
              "      box-shadow: 0px 1px 3px 1px rgba(0, 0, 0, 0.15);\n",
              "      filter: drop-shadow(0px 1px 2px rgba(0, 0, 0, 0.3));\n",
              "      fill: #FFFFFF;\n",
              "    }\n",
              "  </style>\n",
              "\n",
              "      <script>\n",
              "        const buttonEl =\n",
              "          document.querySelector('#df-db62228a-9ed9-46f8-a026-97bdb9bc6379 button.colab-df-convert');\n",
              "        buttonEl.style.display =\n",
              "          google.colab.kernel.accessAllowed ? 'block' : 'none';\n",
              "\n",
              "        async function convertToInteractive(key) {\n",
              "          const element = document.querySelector('#df-db62228a-9ed9-46f8-a026-97bdb9bc6379');\n",
              "          const dataTable =\n",
              "            await google.colab.kernel.invokeFunction('convertToInteractive',\n",
              "                                                     [key], {});\n",
              "          if (!dataTable) return;\n",
              "\n",
              "          const docLinkHtml = 'Like what you see? Visit the ' +\n",
              "            '<a target=\"_blank\" href=https://colab.research.google.com/notebooks/data_table.ipynb>data table notebook</a>'\n",
              "            + ' to learn more about interactive tables.';\n",
              "          element.innerHTML = '';\n",
              "          dataTable['output_type'] = 'display_data';\n",
              "          await google.colab.output.renderOutput(dataTable, element);\n",
              "          const docLink = document.createElement('div');\n",
              "          docLink.innerHTML = docLinkHtml;\n",
              "          element.appendChild(docLink);\n",
              "        }\n",
              "      </script>\n",
              "    </div>\n",
              "  </div>\n",
              "  "
            ]
          },
          "metadata": {},
          "execution_count": 15
        }
      ]
    },
    {
      "cell_type": "code",
      "metadata": {
        "id": "zeXK9uaaBc-s"
      },
      "source": [
        "features = list(X_train.columns)"
      ],
      "execution_count": null,
      "outputs": []
    },
    {
      "cell_type": "code",
      "metadata": {
        "id": "QwgODY1MBgUa"
      },
      "source": [
        "cat_features = [\"Credit_History\"]"
      ],
      "execution_count": null,
      "outputs": []
    },
    {
      "cell_type": "code",
      "metadata": {
        "id": "48aXcEzc6NQP"
      },
      "source": [
        "model_cb = CatBoostClassifier(task_type='GPU', iterations=100, \n",
        "                              random_state = 2021, \n",
        "                              eval_metric=\"F1\")"
      ],
      "execution_count": null,
      "outputs": []
    },
    {
      "cell_type": "code",
      "metadata": {
        "id": "kmU3OQJY535k",
        "outputId": "a0e70fb4-a1cf-45bc-ab93-70dbbd6c4222",
        "colab": {
          "base_uri": "https://localhost:8080/",
          "height": 1000,
          "referenced_widgets": [
            "29627b1707334af8b13066938e318c67"
          ]
        }
      },
      "source": [
        "model_cb.fit(X_train, y_train, cat_features= cat_features, plot=True, \n",
        "             eval_set=(X_test, y_test))"
      ],
      "execution_count": null,
      "outputs": [
        {
          "output_type": "display_data",
          "data": {
            "text/plain": [
              "MetricVisualizer(layout=Layout(align_self='stretch', height='500px'))"
            ],
            "application/vnd.jupyter.widget-view+json": {
              "version_major": 2,
              "version_minor": 0,
              "model_id": "29627b1707334af8b13066938e318c67"
            }
          },
          "metadata": {}
        },
        {
          "output_type": "stream",
          "name": "stdout",
          "text": [
            "Learning rate set to 0.199227\n",
            "0:\tlearn: 0.8571429\ttest: 0.7885305\tbest: 0.7885305 (0)\ttotal: 27ms\tremaining: 2.67s\n",
            "1:\tlearn: 0.8553259\ttest: 0.8275862\tbest: 0.8275862 (1)\ttotal: 54.6ms\tremaining: 2.68s\n",
            "2:\tlearn: 0.8562300\ttest: 0.8251748\tbest: 0.8275862 (1)\ttotal: 81.6ms\tremaining: 2.64s\n",
            "3:\tlearn: 0.8576000\ttest: 0.8309859\tbest: 0.8309859 (3)\ttotal: 107ms\tremaining: 2.56s\n",
            "4:\tlearn: 0.8557692\ttest: 0.8309859\tbest: 0.8309859 (3)\ttotal: 132ms\tremaining: 2.52s\n",
            "5:\tlearn: 0.8539326\ttest: 0.8339223\tbest: 0.8339223 (5)\ttotal: 151ms\tremaining: 2.37s\n",
            "6:\tlearn: 0.8520900\ttest: 0.8309859\tbest: 0.8339223 (5)\ttotal: 177ms\tremaining: 2.36s\n",
            "7:\tlearn: 0.8502415\ttest: 0.8398577\tbest: 0.8398577 (7)\ttotal: 198ms\tremaining: 2.28s\n",
            "8:\tlearn: 0.8520900\ttest: 0.8309859\tbest: 0.8398577 (7)\ttotal: 224ms\tremaining: 2.26s\n",
            "9:\tlearn: 0.8520900\ttest: 0.8368794\tbest: 0.8398577 (7)\ttotal: 241ms\tremaining: 2.17s\n",
            "10:\tlearn: 0.8520900\ttest: 0.8309859\tbest: 0.8398577 (7)\ttotal: 267ms\tremaining: 2.16s\n",
            "11:\tlearn: 0.8539326\ttest: 0.8309859\tbest: 0.8398577 (7)\ttotal: 292ms\tremaining: 2.14s\n",
            "12:\tlearn: 0.8557692\ttest: 0.8251748\tbest: 0.8398577 (7)\ttotal: 318ms\tremaining: 2.13s\n",
            "13:\tlearn: 0.8557692\ttest: 0.8251748\tbest: 0.8398577 (7)\ttotal: 344ms\tremaining: 2.11s\n",
            "14:\tlearn: 0.8557692\ttest: 0.8251748\tbest: 0.8398577 (7)\ttotal: 370ms\tremaining: 2.1s\n",
            "15:\tlearn: 0.8576000\ttest: 0.8251748\tbest: 0.8398577 (7)\ttotal: 395ms\tremaining: 2.07s\n",
            "16:\tlearn: 0.8576000\ttest: 0.8309859\tbest: 0.8398577 (7)\ttotal: 420ms\tremaining: 2.05s\n",
            "17:\tlearn: 0.8576000\ttest: 0.8251748\tbest: 0.8398577 (7)\ttotal: 448ms\tremaining: 2.04s\n",
            "18:\tlearn: 0.8576000\ttest: 0.8280702\tbest: 0.8398577 (7)\ttotal: 475ms\tremaining: 2.02s\n",
            "19:\tlearn: 0.8594249\ttest: 0.8280702\tbest: 0.8398577 (7)\ttotal: 501ms\tremaining: 2s\n",
            "20:\tlearn: 0.8612440\ttest: 0.8309859\tbest: 0.8398577 (7)\ttotal: 529ms\tremaining: 1.99s\n",
            "21:\tlearn: 0.8612440\ttest: 0.8280702\tbest: 0.8398577 (7)\ttotal: 556ms\tremaining: 1.97s\n",
            "22:\tlearn: 0.8612440\ttest: 0.8309859\tbest: 0.8398577 (7)\ttotal: 582ms\tremaining: 1.95s\n",
            "23:\tlearn: 0.8580542\ttest: 0.8309859\tbest: 0.8398577 (7)\ttotal: 608ms\tremaining: 1.92s\n",
            "24:\tlearn: 0.8594249\ttest: 0.8309859\tbest: 0.8398577 (7)\ttotal: 627ms\tremaining: 1.88s\n",
            "25:\tlearn: 0.8612440\ttest: 0.8309859\tbest: 0.8398577 (7)\ttotal: 653ms\tremaining: 1.86s\n",
            "26:\tlearn: 0.8594249\ttest: 0.8309859\tbest: 0.8398577 (7)\ttotal: 679ms\tremaining: 1.83s\n",
            "27:\tlearn: 0.8580542\ttest: 0.8280702\tbest: 0.8398577 (7)\ttotal: 706ms\tremaining: 1.82s\n",
            "28:\tlearn: 0.8630573\ttest: 0.8280702\tbest: 0.8398577 (7)\ttotal: 735ms\tremaining: 1.8s\n",
            "29:\tlearn: 0.8630573\ttest: 0.8280702\tbest: 0.8398577 (7)\ttotal: 755ms\tremaining: 1.76s\n",
            "30:\tlearn: 0.8598726\ttest: 0.8280702\tbest: 0.8398577 (7)\ttotal: 787ms\tremaining: 1.75s\n",
            "31:\tlearn: 0.8598726\ttest: 0.8280702\tbest: 0.8398577 (7)\ttotal: 794ms\tremaining: 1.69s\n",
            "32:\tlearn: 0.8598726\ttest: 0.8251748\tbest: 0.8398577 (7)\ttotal: 797ms\tremaining: 1.62s\n",
            "33:\tlearn: 0.8612440\ttest: 0.8251748\tbest: 0.8398577 (7)\ttotal: 801ms\tremaining: 1.55s\n",
            "34:\tlearn: 0.8612440\ttest: 0.8251748\tbest: 0.8398577 (7)\ttotal: 805ms\tremaining: 1.49s\n",
            "35:\tlearn: 0.8666667\ttest: 0.8222997\tbest: 0.8398577 (7)\ttotal: 808ms\tremaining: 1.44s\n",
            "36:\tlearn: 0.8648649\ttest: 0.8222997\tbest: 0.8398577 (7)\ttotal: 812ms\tremaining: 1.38s\n",
            "37:\tlearn: 0.8648649\ttest: 0.8235294\tbest: 0.8398577 (7)\ttotal: 815ms\tremaining: 1.33s\n",
            "38:\tlearn: 0.8684628\ttest: 0.8235294\tbest: 0.8398577 (7)\ttotal: 819ms\tremaining: 1.28s\n",
            "39:\tlearn: 0.8666667\ttest: 0.8194444\tbest: 0.8398577 (7)\ttotal: 822ms\tremaining: 1.23s\n",
            "40:\tlearn: 0.8680445\ttest: 0.8235294\tbest: 0.8398577 (7)\ttotal: 826ms\tremaining: 1.19s\n",
            "41:\tlearn: 0.8698413\ttest: 0.8235294\tbest: 0.8398577 (7)\ttotal: 829ms\tremaining: 1.15s\n",
            "42:\tlearn: 0.8698413\ttest: 0.8235294\tbest: 0.8398577 (7)\ttotal: 833ms\tremaining: 1.1s\n",
            "43:\tlearn: 0.8730159\ttest: 0.8166090\tbest: 0.8398577 (7)\ttotal: 836ms\tremaining: 1.06s\n",
            "44:\tlearn: 0.8730159\ttest: 0.8166090\tbest: 0.8398577 (7)\ttotal: 840ms\tremaining: 1.03s\n",
            "45:\tlearn: 0.8761905\ttest: 0.8235294\tbest: 0.8398577 (7)\ttotal: 845ms\tremaining: 992ms\n",
            "46:\tlearn: 0.8775835\ttest: 0.8235294\tbest: 0.8398577 (7)\ttotal: 853ms\tremaining: 962ms\n",
            "47:\tlearn: 0.8775835\ttest: 0.8137931\tbest: 0.8398577 (7)\ttotal: 863ms\tremaining: 935ms\n",
            "48:\tlearn: 0.8789809\ttest: 0.8194444\tbest: 0.8398577 (7)\ttotal: 867ms\tremaining: 902ms\n",
            "49:\tlearn: 0.8789809\ttest: 0.8194444\tbest: 0.8398577 (7)\ttotal: 870ms\tremaining: 870ms\n",
            "50:\tlearn: 0.8803828\ttest: 0.8194444\tbest: 0.8398577 (7)\ttotal: 874ms\tremaining: 840ms\n",
            "51:\tlearn: 0.8839428\ttest: 0.8166090\tbest: 0.8398577 (7)\ttotal: 877ms\tremaining: 810ms\n",
            "52:\tlearn: 0.8835726\ttest: 0.8166090\tbest: 0.8398577 (7)\ttotal: 881ms\tremaining: 781ms\n",
            "53:\tlearn: 0.8857143\ttest: 0.8166090\tbest: 0.8398577 (7)\ttotal: 885ms\tremaining: 753ms\n",
            "54:\tlearn: 0.8857143\ttest: 0.8166090\tbest: 0.8398577 (7)\ttotal: 888ms\tremaining: 727ms\n",
            "55:\tlearn: 0.8871224\ttest: 0.8166090\tbest: 0.8398577 (7)\ttotal: 892ms\tremaining: 701ms\n",
            "56:\tlearn: 0.8885350\ttest: 0.8194444\tbest: 0.8398577 (7)\ttotal: 895ms\tremaining: 675ms\n",
            "57:\tlearn: 0.8899522\ttest: 0.8194444\tbest: 0.8398577 (7)\ttotal: 899ms\tremaining: 651ms\n",
            "58:\tlearn: 0.8885350\ttest: 0.8137931\tbest: 0.8398577 (7)\ttotal: 903ms\tremaining: 627ms\n",
            "59:\tlearn: 0.8899522\ttest: 0.8137931\tbest: 0.8398577 (7)\ttotal: 906ms\tremaining: 604ms\n",
            "60:\tlearn: 0.8899522\ttest: 0.8137931\tbest: 0.8398577 (7)\ttotal: 910ms\tremaining: 582ms\n",
            "61:\tlearn: 0.8931419\ttest: 0.8166090\tbest: 0.8398577 (7)\ttotal: 913ms\tremaining: 560ms\n",
            "62:\tlearn: 0.8928000\ttest: 0.8166090\tbest: 0.8398577 (7)\ttotal: 917ms\tremaining: 538ms\n",
            "63:\tlearn: 0.8942308\ttest: 0.8137931\tbest: 0.8398577 (7)\ttotal: 921ms\tremaining: 518ms\n",
            "64:\tlearn: 0.8960000\ttest: 0.8096886\tbest: 0.8398577 (7)\ttotal: 924ms\tremaining: 498ms\n",
            "65:\tlearn: 0.8960000\ttest: 0.8125000\tbest: 0.8398577 (7)\ttotal: 928ms\tremaining: 478ms\n",
            "66:\tlearn: 0.8988764\ttest: 0.8027682\tbest: 0.8398577 (7)\ttotal: 931ms\tremaining: 459ms\n",
            "67:\tlearn: 0.8985507\ttest: 0.8083624\tbest: 0.8398577 (7)\ttotal: 935ms\tremaining: 440ms\n",
            "68:\tlearn: 0.8953301\ttest: 0.8083624\tbest: 0.8398577 (7)\ttotal: 939ms\tremaining: 422ms\n",
            "69:\tlearn: 0.8938907\ttest: 0.8083624\tbest: 0.8398577 (7)\ttotal: 942ms\tremaining: 404ms\n",
            "70:\tlearn: 0.8924559\ttest: 0.8083624\tbest: 0.8398577 (7)\ttotal: 946ms\tremaining: 386ms\n",
            "71:\tlearn: 0.8924559\ttest: 0.8083624\tbest: 0.8398577 (7)\ttotal: 949ms\tremaining: 369ms\n",
            "72:\tlearn: 0.8924559\ttest: 0.8083624\tbest: 0.8398577 (7)\ttotal: 953ms\tremaining: 352ms\n",
            "73:\tlearn: 0.8956661\ttest: 0.8083624\tbest: 0.8398577 (7)\ttotal: 956ms\tremaining: 336ms\n",
            "74:\tlearn: 0.8956661\ttest: 0.8083624\tbest: 0.8398577 (7)\ttotal: 960ms\tremaining: 320ms\n",
            "75:\tlearn: 0.8956661\ttest: 0.8083624\tbest: 0.8398577 (7)\ttotal: 964ms\tremaining: 304ms\n",
            "76:\tlearn: 0.8956661\ttest: 0.8083624\tbest: 0.8398577 (7)\ttotal: 967ms\tremaining: 289ms\n",
            "77:\tlearn: 0.8985507\ttest: 0.8055556\tbest: 0.8398577 (7)\ttotal: 971ms\tremaining: 274ms\n",
            "78:\tlearn: 0.8985507\ttest: 0.8055556\tbest: 0.8398577 (7)\ttotal: 980ms\tremaining: 260ms\n",
            "79:\tlearn: 0.9003215\ttest: 0.8083624\tbest: 0.8398577 (7)\ttotal: 983ms\tremaining: 246ms\n",
            "80:\tlearn: 0.9000000\ttest: 0.8083624\tbest: 0.8398577 (7)\ttotal: 987ms\tremaining: 231ms\n",
            "81:\tlearn: 0.9038462\ttest: 0.8083624\tbest: 0.8398577 (7)\ttotal: 990ms\tremaining: 217ms\n",
            "82:\tlearn: 0.9099678\ttest: 0.8083624\tbest: 0.8398577 (7)\ttotal: 994ms\tremaining: 204ms\n",
            "83:\tlearn: 0.9143780\ttest: 0.8055556\tbest: 0.8398577 (7)\ttotal: 998ms\tremaining: 190ms\n",
            "84:\tlearn: 0.9143780\ttest: 0.8055556\tbest: 0.8398577 (7)\ttotal: 1s\tremaining: 177ms\n",
            "85:\tlearn: 0.9143780\ttest: 0.8055556\tbest: 0.8398577 (7)\ttotal: 1.01s\tremaining: 164ms\n",
            "86:\tlearn: 0.9143780\ttest: 0.8055556\tbest: 0.8398577 (7)\ttotal: 1.02s\tremaining: 152ms\n",
            "87:\tlearn: 0.9143780\ttest: 0.8013937\tbest: 0.8398577 (7)\ttotal: 1.02s\tremaining: 139ms\n",
            "88:\tlearn: 0.9158576\ttest: 0.8013937\tbest: 0.8398577 (7)\ttotal: 1.02s\tremaining: 127ms\n",
            "89:\tlearn: 0.9158576\ttest: 0.8013937\tbest: 0.8398577 (7)\ttotal: 1.03s\tremaining: 114ms\n",
            "90:\tlearn: 0.9158576\ttest: 0.8055556\tbest: 0.8398577 (7)\ttotal: 1.03s\tremaining: 102ms\n",
            "91:\tlearn: 0.9129032\ttest: 0.8013937\tbest: 0.8398577 (7)\ttotal: 1.03s\tremaining: 90ms\n",
            "92:\tlearn: 0.9129032\ttest: 0.8055556\tbest: 0.8398577 (7)\ttotal: 1.04s\tremaining: 78.2ms\n",
            "93:\tlearn: 0.9129032\ttest: 0.8055556\tbest: 0.8398577 (7)\ttotal: 1.04s\tremaining: 66.5ms\n",
            "94:\tlearn: 0.9129032\ttest: 0.8055556\tbest: 0.8398577 (7)\ttotal: 1.04s\tremaining: 55ms\n",
            "95:\tlearn: 0.9143780\ttest: 0.8055556\tbest: 0.8398577 (7)\ttotal: 1.05s\tremaining: 44ms\n",
            "96:\tlearn: 0.9143780\ttest: 0.8055556\tbest: 0.8398577 (7)\ttotal: 1.06s\tremaining: 32.9ms\n",
            "97:\tlearn: 0.9143780\ttest: 0.8055556\tbest: 0.8398577 (7)\ttotal: 1.07s\tremaining: 21.9ms\n",
            "98:\tlearn: 0.9143780\ttest: 0.8055556\tbest: 0.8398577 (7)\ttotal: 1.08s\tremaining: 10.9ms\n",
            "99:\tlearn: 0.9143780\ttest: 0.8055556\tbest: 0.8398577 (7)\ttotal: 1.08s\tremaining: 0us\n",
            "bestTest = 0.8398576512\n",
            "bestIteration = 7\n",
            "Shrink model to first 8 iterations.\n"
          ]
        },
        {
          "output_type": "execute_result",
          "data": {
            "text/plain": [
              "<catboost.core.CatBoostClassifier at 0x7fdebb679630>"
            ]
          },
          "metadata": {},
          "execution_count": 19
        }
      ]
    },
    {
      "cell_type": "code",
      "metadata": {
        "id": "X550kU8D558B"
      },
      "source": [
        "y_pred = model_cb.predict(X_test)"
      ],
      "execution_count": null,
      "outputs": []
    },
    {
      "cell_type": "code",
      "metadata": {
        "id": "pRPR6rsH__H_",
        "outputId": "3aa1a8f8-2dbe-4901-81f2-3a46313f7a47",
        "colab": {
          "base_uri": "https://localhost:8080/"
        }
      },
      "source": [
        "f1_score(y_test, y_pred)"
      ],
      "execution_count": null,
      "outputs": [
        {
          "output_type": "execute_result",
          "data": {
            "text/plain": [
              "0.8398576512455516"
            ]
          },
          "metadata": {},
          "execution_count": 21
        }
      ]
    },
    {
      "cell_type": "code",
      "metadata": {
        "id": "Cro3MSvZADJ2",
        "outputId": "176cd154-9834-4108-e5c1-501b622b05f9",
        "colab": {
          "base_uri": "https://localhost:8080/"
        }
      },
      "source": [
        "accuracy_score(y_test, y_pred)"
      ],
      "execution_count": null,
      "outputs": [
        {
          "output_type": "execute_result",
          "data": {
            "text/plain": [
              "0.7783251231527094"
            ]
          },
          "metadata": {},
          "execution_count": 22
        }
      ]
    }
  ]
}